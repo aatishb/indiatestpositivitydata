{
 "cells": [
  {
   "cell_type": "code",
   "execution_count": 97,
   "metadata": {},
   "outputs": [
    {
     "name": "stdout",
     "output_type": "stream",
     "text": [
      "checking for new data on 2021-05-12 23:03:58.236962+05:30\n",
      "already have data for 12/05/2021\n"
     ]
    }
   ],
   "source": [
    "import pandas as pd\n",
    "from datetime import datetime\n",
    "import pytz\n",
    "import urllib.request\n",
    "\n",
    "# get current date in IST\n",
    "IST = pytz.timezone('Asia/Kolkata')\n",
    "today = datetime.now(IST)\n",
    "# https://stackoverflow.com/a/20007730\n",
    "ordinal = lambda n: \"%d%s\" % (n,\"tsnrhtdd\"[(n//10%10!=1)*(n%10<4)*n%10::4])\n",
    "monthname = ['January', 'February', 'March', 'April', 'May', 'June', 'July', 'August', 'September', 'October', 'November', 'December']\n",
    "date = ordinal(today.day) + monthname[today.month - 1]\n",
    "\n",
    "# parse URL for that date\n",
    "print('checking for new data on', today)\n",
    "url = 'https://www.mohfw.gov.in/pdf/10percentDistrictWiseCOVID19Positivity' + date + '.xlsx'\n",
    "df = pd.read_excel(url, skiprows=[0,1,2], header=[0]).fillna(method='ffill')\n",
    "df.drop(df.tail(1).index,inplace=True)\n",
    "currentdate = today.strftime('%d/%m/%Y')\n",
    "df['Date'] = currentdate\n",
    "\n",
    "csv = pd.read_csv('data.csv', header=None)\n",
    "prevdate = csv.iloc[-1,0]\n",
    "\n",
    "if (prevdate != currentdate):\n",
    "    df.to_csv(\"data.csv\", columns = ['Date', 'State', 'District', 'Positivity'], header = False, index = False, mode='a')\n",
    "    print('added data for', currentdate, 'to data.csv')\n",
    "    path = '/archive' + url.split('/')[-1]\n",
    "    urllib.request.urlretrieve(url, path)\n",
    "    print('saved data for', currentdate, 'to archive folder')\n",
    "    \n",
    "else:\n",
    "    print('already have data for', currentdate)"
   ]
  }
 ],
 "metadata": {
  "kernelspec": {
   "display_name": "Python 3",
   "language": "python",
   "name": "python3"
  },
  "language_info": {
   "codemirror_mode": {
    "name": "ipython",
    "version": 3
   },
   "file_extension": ".py",
   "mimetype": "text/x-python",
   "name": "python",
   "nbconvert_exporter": "python",
   "pygments_lexer": "ipython3",
   "version": "3.6.3"
  }
 },
 "nbformat": 4,
 "nbformat_minor": 2
}
